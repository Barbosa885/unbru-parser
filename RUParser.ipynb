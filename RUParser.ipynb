{
  "cells": [
    {
      "cell_type": "code",
      "execution_count": 3,
      "metadata": {
        "colab": {
          "base_uri": "https://localhost:8080/"
        },
        "id": "hGQ2S1Qsddl6",
        "outputId": "7a212ad8-e61c-4775-bed1-8b96da22f802"
      },
      "outputs": [],
      "source": [
        "import camelot\n",
        "import json\n",
        "import re\n",
        "import datetime\n",
        "import pandas as pd\n",
        "\n",
        "from bs4 import BeautifulSoup\n",
        "import requests\n",
        "import datetime"
      ]
    },
    {
      "cell_type": "code",
      "execution_count": 4,
      "metadata": {
        "id": "lKO0poCfM3tl"
      },
      "outputs": [],
      "source": [
        "ru_url = 'https://ru.unb.br'\n",
        "menu_url = ru_url + '/index.php/cardapio-refeitorio'\n",
        "\n",
        "html_menu_response = requests.get(menu_url)"
      ]
    },
    {
      "cell_type": "code",
      "execution_count": 5,
      "metadata": {
        "colab": {
          "base_uri": "https://localhost:8080/"
        },
        "id": "cFPLzoAIsBSx",
        "outputId": "4435b6cb-224a-4eaa-afda-55821df9a951"
      },
      "outputs": [
        {
          "name": "stdout",
          "output_type": "stream",
          "text": [
            "['Darcy Ribeiro', 'Ceilândia', 'Gama', 'Planaltina', 'Fazenda']\n",
            "Processando cardapio: https://ru.unb.br/images/Artigos/ISMCARDAPIOSDRU2023/11NOVEMBRO2023/Darcy_Ribeiro-_Semana_02_-_20-11_A_26-11.pdf\n",
            "Processando cardapio: https://ru.unb.br/images/Artigos/ISMCARDAPIOSDRU2023/11NOVEMBRO2023/Ceilndia-_Semana_02_-_20-11_A_26-11_-_Copia_-_Copia.pdf\n",
            "Processando cardapio: https://ru.unb.br/images/Artigos/ISMCARDAPIOSDRU2023/11NOVEMBRO2023/Gama-_Semana_02_-_20-11_A_26-11.pdf\n",
            "Processando cardapio: https://ru.unb.br/images/Artigos/ISMCARDAPIOSDRU2023/11NOVEMBRO2023/Planaltina-_Semana_02_-_20-11_A_26-11_-_Copia.pdf\n",
            "Processando cardapio: https://ru.unb.br/images/Artigos/ISMCARDAPIOSDRU2023/11NOVEMBRO2023/Fazenda-_Semana_02_-_20-11_A_26-11.pdf\n"
          ]
        },
        {
          "data": {
            "text/plain": [
              "{'Darcy Ribeiro': <TableList n=3>,\n",
              " 'Ceilândia': <TableList n=3>,\n",
              " 'Gama': <TableList n=3>,\n",
              " 'Planaltina': <TableList n=3>,\n",
              " 'Fazenda': <TableList n=3>}"
            ]
          },
          "execution_count": 5,
          "metadata": {},
          "output_type": "execute_result"
        }
      ],
      "source": [
        "def onDay(date, day):\n",
        "    \"\"\"\n",
        "    Returns the date of the next given weekday after\n",
        "    the given date. For example, the date of next Monday.\n",
        "\n",
        "    NB: if it IS the day we're looking for, this returns 0.\n",
        "    consider then doing onDay(foo, day + 1).\n",
        "    \"\"\"\n",
        "    days = (day - date.weekday() + 7) % 7\n",
        "    return date + datetime.timedelta(days=days)\n",
        "\n",
        "\n",
        "menu_soup = BeautifulSoup(html_menu_response.text, 'html')\n",
        "\n",
        "campuses_names = []\n",
        "campuses = menu_soup('strong')\n",
        "for campus in campuses:\n",
        "   if isinstance(campus.contents[0], str):\n",
        "    campuses_names.append(campus.string)\n",
        "print(campuses_names)\n",
        "\n",
        "available_menu_links = menu_soup.find('main').find_all('a')\n",
        "tables = {}\n",
        "idx = 0\n",
        "d = datetime.datetime.now()\n",
        "next_monday = onDay(d, 0).strftime('%d/%m').replace('/', '-')\n",
        "for item in available_menu_links:\n",
        "    if item.contents and item.string != 'I' and next_monday in item.string: # m.contents[0] != 'I', isso é para desconsiderar um link nada a ver no site\n",
        "      menu_link = ru_url + item.attrs['href']\n",
        "      print('Processando cardapio: ' + menu_link)\n",
        "      tables[campuses_names[idx]] = camelot.read_pdf(menu_link, pages='1,2,3', flavor='lattice', line_scale=40, strip_text='\\n', copy_text=['h'], )\n",
        "      idx += 1\n",
        "tables"
      ]
    },
    {
      "cell_type": "code",
      "execution_count": 6,
      "metadata": {},
      "outputs": [],
      "source": [
        "def table_to_json(table):\n",
        "  for i in range(3):\n",
        "    table[i].df = table[i].df.drop(0, axis=1) #removes first column\n",
        "    table[i].df.index = table[i].df[1]\n",
        "    table[i].df = table[i].df.drop(1, axis=1) #removes first column\n",
        "\n",
        "  dates = re.findall(\"\\d\\d.\\d\\d.\\d\\d\\d\\d\", table[0].df.to_string())\n",
        "  formated_dates = map(lambda date: datetime.datetime.strptime(date, \"%d/%m/%Y\").strftime(\"%Y-%m-%d\"), dates)\n",
        "  dates = list(formated_dates)\n",
        "\n",
        "  str_list = list(filter(None, table[0].df.T.columns[1:]))\n",
        "  x = table[0].df.T.values[i][1:].tolist()\n",
        "  try:\n",
        "    x.remove('Café OU chá')\n",
        "  except:\n",
        "    try:\n",
        "      x.remove('Café ou chá')\n",
        "    except:\n",
        "      pass\n",
        "\n",
        "  desjejum = []\n",
        "  almoco = []\n",
        "  jantar = []\n",
        "  for j in range(3):\n",
        "    for i in range(len(table[j].df.columns.values)):\n",
        "      if j == 0:\n",
        "        desjejum_list = table[0].df.T.values[i][1:].tolist()\n",
        "        try:\n",
        "          desjejum_list.remove('Café OU chá')\n",
        "        except:\n",
        "          try:\n",
        "            desjejum_list.remove('Café ou chá')\n",
        "          except:\n",
        "            pass\n",
        "        desjejum.append(json.dumps(dict(zip(map(lambda x: x.capitalize(),list(filter(None, table[0].df.T.columns[1:]))), desjejum_list)), ensure_ascii=False))\n",
        "      elif j == 1:\n",
        "        almoco.append(json.dumps(dict(zip(map(lambda x: x.capitalize(),table[1].df.T.columns[1:]), table[1].df.T.values[i][1:])), ensure_ascii=False))\n",
        "      elif j == 2:\n",
        "        jantar.append(json.dumps(dict(zip(map(lambda x: x.capitalize(), table[2].df.T.columns[1:]), table[2].df.T.values[i][1:])), ensure_ascii=False))\n",
        "  \n",
        "  print(dict(date = dates, desjejum = desjejum, almoco = almoco, jantar = jantar))\n",
        "  return  pd.DataFrame({'date': dates, 'desjejum': desjejum, 'almoco': almoco, \"jantar\": jantar})"
      ]
    },
    {
      "cell_type": "code",
      "execution_count": 7,
      "metadata": {},
      "outputs": [
        {
          "name": "stdout",
          "output_type": "stream",
          "text": [
            "{'date': ['2023-11-20', '2023-11-21', '2023-11-22', '2023-11-23', '2023-11-24', '2023-11-25', '2023-11-26'], 'desjejum': ['{\"Bebidas\": \"Leite integral ou “leite” de soja\", \"Panificação\": \"Pão francês  ou Pão careca  ou Pão integral\", \"Opção extra\": \"\", \"Gordura\": \"Manteiga ou creme vegetal\", \"Complemento padrão\": \"Salsicha ao molho\", \"Complemento ovolactovegetariano  queijo muçarela\": \"\", \"Complemento vegetariano estrito\": \"Amentondela\", \"Fruta\": \"Melancia\"}', '{\"Bebidas\": \"Leite integral ou “leite” de soja\", \"Panificação\": \"Pão francês  ou Pão careca  ou\", \"Opção extra\": \"Cuscuz\", \"Gordura\": \"Manteiga ou creme vegetal\", \"Complemento padrão\": \"Carne desfiada\", \"Complemento ovolactovegetariano  queijo muçarela\": \"Ovos mexidos\", \"Complemento vegetariano estrito\": \"Geleia de frutas\", \"Fruta\": \"Mamão\"}', '{\"Bebidas\": \"Leite integral ou “leite” de soja\", \"Panificação\": \"Pão francês  ou Pão careca  ou\", \"Opção extra\": \"\", \"Gordura\": \"Manteiga ou creme vegetal\", \"Complemento padrão\": \"Queijo minas\", \"Complemento ovolactovegetariano  queijo muçarela\": \"Queijo minas\", \"Complemento vegetariano estrito\": \"Pasta de ervilha\", \"Fruta\": \"Abacaxi\"}', '{\"Bebidas\": \"Leite integral ou “leite” de soja\", \"Panificação\": \"Pão francês  ou Pão careca  ou Pão integral\", \"Opção extra\": \"\", \"Gordura\": \"Manteiga ou creme vegetal\", \"Complemento padrão\": \"Ovos mexidos\", \"Complemento ovolactovegetariano  queijo muçarela\": \"Ovos mexidos\", \"Complemento vegetariano estrito\": \"Patê de tomate\", \"Fruta\": \"Banana\"}', '{\"Bebidas\": \"Leite integral ou “leite” de soja\", \"Panificação\": \"Pão francês  ou Pão careca  ou\", \"Opção extra\": \"Bolo de laranja   Bolo vegetariano\", \"Gordura\": \"Manteiga ou creme vegetal\", \"Complemento padrão\": \"Bebida láctea\", \"Complemento ovolactovegetariano  queijo muçarela\": \"Bebida láctea\", \"Complemento vegetariano estrito\": \"Pasta de lentilha\", \"Fruta\": \"Salada de frutas\"}', '{\"Bebidas\": \"Leite integral ou “leite” de soja\", \"Panificação\": \"Pão francês  ou Pão careca  ou Pão integral\", \"Opção extra\": \"\", \"Gordura\": \"Manteiga ou creme vegetal\", \"Complemento padrão\": \"Queijo muçarela\", \"Complemento ovolactovegetariano  queijo muçarela\": \"Queijo muçarela\", \"Complemento vegetariano estrito\": \"Guacamole\", \"Fruta\": \"Melão\"}', '{\"Bebidas\": \"Leite integral ou “leite” de soja\", \"Panificação\": \"Pão francês  ou Pão careca  ou\", \"Opção extra\": \"Pão de queijo\", \"Gordura\": \"Manteiga ou creme vegetal\", \"Complemento padrão\": \"Frango desfiado\", \"Complemento ovolactovegetariano  queijo muçarela\": \"Queijo minas\", \"Complemento vegetariano estrito\": \"Homus de abóbora com mandioca\", \"Fruta\": \"Maçã\"}'], 'almoco': ['{\"Salada 1\": \"Alface roxa\", \"Salada 2\": \"Tomate\", \"Molho para salada\": \"Salsa\", \"Prato principal padrão\": \"Cubos  de carne acebolada\", \"Prato principal ovolactovegetariano\": \"Torta de soja com queijo\", \"Prato principal vegetariano estrito\": \"Almôndega de soja ao sugo\", \"Guarnição\": \"Berinjela com oregáno\", \"Acompanhamentos\": \"Arroz branco e integral Feijão carioca\", \"Sobremesa\": \"Abacaxi\", \"Bebida (refresco de)\": \"Acerola\"}', '{\"Salada 1\": \"Acelga e manga\", \"Salada 2\": \"Picles de rabanete\", \"Molho para salada\": \"Ervas finas\", \"Prato principal padrão\": \"Frango assado\", \"Prato principal ovolactovegetariano\": \"Croquete de grão de bico com queijo\", \"Prato principal vegetariano estrito\": \"Grão de bico à indiana\", \"Guarnição\": \"Abobrinha com orégano\", \"Acompanhamentos\": \"Arroz branco e integral Feijão preto\", \"Sobremesa\": \"Doce de leite  OPÇÃO: Fruta\", \"Bebida (refresco de)\": \"Abacaxi\"}', '{\"Salada 1\": \"Mix de alface com mostarda\", \"Salada 2\": \"Feijão fradinho com vinagrete\", \"Molho para salada\": \"Hortelã\", \"Prato principal padrão\": \"Carne de sol\", \"Prato principal ovolactovegetariano\": \"Hambúrguer de soja e aveia gratinado\", \"Prato principal vegetariano estrito\": \"Silveirinha de soja\", \"Guarnição\": \"Mandioca cozida\", \"Acompanhamentos\": \"Arroz branco e integral Feijão carioca\", \"Sobremesa\": \"Banana\", \"Bebida (refresco de)\": \"Guaraná\"}', '{\"Salada 1\": \"Mix de folhas\", \"Salada 2\": \"Caponata de berinjela\", \"Molho para salada\": \"Gengibre\", \"Prato principal padrão\": \"Filé de frango com manteiga de ervas\", \"Prato principal ovolactovegetariano\": \"Torta de palmito, lentilha e queijo\", \"Prato principal vegetariano estrito\": \"Charuto de lentilha\", \"Guarnição\": \"Legumes sauté\", \"Acompanhamentos\": \"Arroz branco e integral Feijão preto\", \"Sobremesa\": \"Melão\", \"Bebida (refresco de)\": \"Manga\"}', '{\"Salada 1\": \"Alface lisa\", \"Salada 2\": \"Abóbora ralada\", \"Molho para salada\": \"Manjericão\", \"Prato principal padrão\": \"Lasanha à bolonhesa\", \"Prato principal ovolactovegetariano\": \"Omelete à caprese\", \"Prato principal vegetariano estrito\": \"Pimentão recheado com quinoa branca\", \"Guarnição\": \"Chuchu com ervas\", \"Acompanhamentos\": \"Arroz branco e integral Feijão carioca\", \"Sobremesa\": \"Maçã\", \"Bebida (refresco de)\": \"Maracujá\"}', '{\"Salada 1\": \"Repolho roxo\", \"Salada 2\": \"Salada mista\", \"Molho para salada\": \"Chimichurri/ Limão\", \"Prato principal padrão\": \"Bife suíno a molho de laranja  OPÇÃO: Bobo de Frango\", \"Prato principal ovolactovegetariano\": \"Abobrinha recheada com ervilha gratinada\", \"Prato principal vegetariano estrito\": \"Ervilha com abóbora e gergelim\", \"Guarnição\": \"Farofa de cuscuz\", \"Acompanhamentos\": \"Arroz branco e integral Feijão preto\", \"Sobremesa\": \"Mamão\", \"Bebida (refresco de)\": \"Uva\"}', '{\"Salada 1\": \"Acelga com chicória\", \"Salada 2\": \"Cenoura cozida\", \"Molho para salada\": \"Vinagrete\", \"Prato principal padrão\": \"Almôndegas ao sugo\", \"Prato principal ovolactovegetariano\": \"Ovos mexidos\", \"Prato principal vegetariano estrito\": \"Almôndegas de soja ao sugo\", \"Guarnição\": \"Macarrão ao alho e óleo\", \"Acompanhamentos\": \"Arroz branco e integral Feijão carioca\", \"Sobremesa\": \"Melancia\", \"Bebida (refresco de)\": \"Limão\"}'], 'jantar': ['{\"Salada 1\": \"Repolho roxo com melão\", \"Salada 2\": \"Chuchu cozido\", \"Molho para salada\": \"Alho e limão\", \"Prato principal padrão\": \"Frango cremoso\", \"Prato principal ovolactovegetariano\": \"Ovos ao sugo\", \"Prato principal vegetariano estrito\": \"Tomate recheado com quinoa  branca\", \"Sopa\": \"Caldo verde\", \"Torrada\": \"Torrada\", \"Acompanhamentos\": \"Arroz branco e integral Feijão carioca\", \"Sobremesa\": \"Maçã\", \"Bebida (refresco de)\": \"Acerola\"}', '{\"Salada 1\": \"Alface roxa com Abacaxi\", \"Salada 2\": \"Cenoura ralada\", \"Molho para salada\": \"Gengibre\", \"Prato principal padrão\": \"Escondidinho de carne moída\", \"Prato principal ovolactovegetariano\": \"Macarronada à bolonhesa de soja gratinada\", \"Prato principal vegetariano estrito\": \"Macarronada à bolonhesa de soja\", \"Sopa\": \"Sopa de legumes\", \"Torrada\": \"Torrada\", \"Acompanhamentos\": \"Arroz branco e integral Feijão preto\", \"Sobremesa\": \"Banana\", \"Bebida (refresco de)\": \"Abacaxi\"}', '{\"Salada 1\": \"Repolho branco com passas\", \"Salada 2\": \"Beterraba cozida\", \"Molho para salada\": \"Iogurte com hortelã / Limão\", \"Prato principal padrão\": \"Strogonoff de Frango\", \"Prato principal ovolactovegetariano\": \"Nhoque ao sugo com queijo minas\", \"Prato principal vegetariano estrito\": \"Hambúrguer de abóbora\", \"Sopa\": \"Creme de milho\", \"Torrada\": \"Torrada\", \"Acompanhamentos\": \"Arroz branco e integral Feijão carioca\", \"Sobremesa\": \"Laranja\", \"Bebida (refresco de)\": \"Guaraná\"}', '{\"Salada 1\": \"Alface crespa com Manga\", \"Salada 2\": \"Pepino fatiado\", \"Molho para salada\": \"Rosé  /  Limão\", \"Prato principal padrão\": \"Iscas  de carne ao  molho\", \"Prato principal ovolactovegetariano\": \"Tomate recheado com homus de grão de bico gratinado\", \"Prato principal vegetariano estrito\": \"Moqueca de banana com grão de bico\", \"Sopa\": \"Sopa de abóbora\", \"Torrada\": \"Torrada\", \"Acompanhamentos\": \"Arroz branco e integral Feijão preto\", \"Sobremesa\": \"Doce de goiaba OPÇÃO: Fruta\", \"Bebida (refresco de)\": \"Manga\"}', '{\"Salada 1\": \"Acelga temperada\", \"Salada 2\": \"Maionese  de batata\", \"Molho para salada\": \"Chipotle\", \"Prato principal padrão\": \"Suíno ao molho barbecue  OPÇÃO: Filé de  frango acebolado\", \"Prato principal ovolactovegetariano\": \"Strogonoff de grão de bico\", \"Prato principal vegetariano estrito\": \"Grão de bico cozido\", \"Sopa\": \"Sopa  minestrone\", \"Torrada\": \"Torrada\", \"Acompanhamentos\": \"Arroz branco e integral Feijão carioca\", \"Sobremesa\": \"Melancia\", \"Bebida (refresco de)\": \"Maracujá\"}', '{\"Salada 1\": \"Couve com laranja\", \"Salada 2\": \"Tomate fatiado\", \"Molho para salada\": \"Mostarda e mel  / Limão\", \"Prato principal padrão\": \"Assado de carne  ao molho de vinho\", \"Prato principal ovolactovegetariano\": \"Quiche de soja com queijo\", \"Prato principal vegetariano estrito\": \"Bife de soja ao sugo\", \"Sopa\": \"Creme de batata e alho poró\", \"Torrada\": \"Torrada\", \"Acompanhamentos\": \"Arroz branco e integral Feijão preto\", \"Sobremesa\": \"Abacaxi\", \"Bebida (refresco de)\": \"Uva\"}', '{\"Salada 1\": \"Mix de folhas\", \"Salada 2\": \"Tabule\", \"Molho para salada\": \"Manjericão / Limão\", \"Prato principal padrão\": \"Filé de peixe ao  molho de  moqueca OPÇÃO: Carne desfiada\", \"Prato principal ovolactovegetariano\": \"Empadão de  legumes gratinado\", \"Prato principal vegetariano estrito\": \"Curry de lentilha\", \"Sopa\": \"Sopa de feijão\", \"Torrada\": \"Torrada\", \"Acompanhamentos\": \"Arroz branco e integral Feijão carioca\", \"Sobremesa\": \"Mamão\", \"Bebida (refresco de)\": \"Limão\"}']}\n"
          ]
        },
        {
          "ename": "OSError",
          "evalue": "Cannot save file into a non-existent directory: 'output'",
          "output_type": "error",
          "traceback": [
            "\u001b[0;31m---------------------------------------------------------------------------\u001b[0m",
            "\u001b[0;31mOSError\u001b[0m                                   Traceback (most recent call last)",
            "\u001b[1;32m/home/leo/Projects/unb-ru-parser/RUParser.ipynb Cell 5\u001b[0m line \u001b[0;36m3\n\u001b[1;32m      <a href='vscode-notebook-cell:/home/leo/Projects/unb-ru-parser/RUParser.ipynb#W4sZmlsZQ%3D%3D?line=0'>1</a>\u001b[0m \u001b[39mfor\u001b[39;00m campus \u001b[39min\u001b[39;00m tables:\n\u001b[1;32m      <a href='vscode-notebook-cell:/home/leo/Projects/unb-ru-parser/RUParser.ipynb#W4sZmlsZQ%3D%3D?line=1'>2</a>\u001b[0m   res \u001b[39m=\u001b[39m table_to_json(tables[campus])\n\u001b[0;32m----> <a href='vscode-notebook-cell:/home/leo/Projects/unb-ru-parser/RUParser.ipynb#W4sZmlsZQ%3D%3D?line=2'>3</a>\u001b[0m   res\u001b[39m.\u001b[39;49mto_csv(\u001b[39m\"\u001b[39;49m\u001b[39moutput/\u001b[39;49m\u001b[39m\"\u001b[39;49m \u001b[39m+\u001b[39;49m campus \u001b[39m+\u001b[39;49m \u001b[39m\"\u001b[39;49m\u001b[39m.csv\u001b[39;49m\u001b[39m\"\u001b[39;49m, index\u001b[39m=\u001b[39;49m\u001b[39mFalse\u001b[39;49;00m)\n",
            "File \u001b[0;32m~/.local/lib/python3.10/site-packages/pandas/core/generic.py:3902\u001b[0m, in \u001b[0;36mNDFrame.to_csv\u001b[0;34m(self, path_or_buf, sep, na_rep, float_format, columns, header, index, index_label, mode, encoding, compression, quoting, quotechar, lineterminator, chunksize, date_format, doublequote, escapechar, decimal, errors, storage_options)\u001b[0m\n\u001b[1;32m   3891\u001b[0m df \u001b[39m=\u001b[39m \u001b[39mself\u001b[39m \u001b[39mif\u001b[39;00m \u001b[39misinstance\u001b[39m(\u001b[39mself\u001b[39m, ABCDataFrame) \u001b[39melse\u001b[39;00m \u001b[39mself\u001b[39m\u001b[39m.\u001b[39mto_frame()\n\u001b[1;32m   3893\u001b[0m formatter \u001b[39m=\u001b[39m DataFrameFormatter(\n\u001b[1;32m   3894\u001b[0m     frame\u001b[39m=\u001b[39mdf,\n\u001b[1;32m   3895\u001b[0m     header\u001b[39m=\u001b[39mheader,\n\u001b[0;32m   (...)\u001b[0m\n\u001b[1;32m   3899\u001b[0m     decimal\u001b[39m=\u001b[39mdecimal,\n\u001b[1;32m   3900\u001b[0m )\n\u001b[0;32m-> 3902\u001b[0m \u001b[39mreturn\u001b[39;00m DataFrameRenderer(formatter)\u001b[39m.\u001b[39;49mto_csv(\n\u001b[1;32m   3903\u001b[0m     path_or_buf,\n\u001b[1;32m   3904\u001b[0m     lineterminator\u001b[39m=\u001b[39;49mlineterminator,\n\u001b[1;32m   3905\u001b[0m     sep\u001b[39m=\u001b[39;49msep,\n\u001b[1;32m   3906\u001b[0m     encoding\u001b[39m=\u001b[39;49mencoding,\n\u001b[1;32m   3907\u001b[0m     errors\u001b[39m=\u001b[39;49merrors,\n\u001b[1;32m   3908\u001b[0m     compression\u001b[39m=\u001b[39;49mcompression,\n\u001b[1;32m   3909\u001b[0m     quoting\u001b[39m=\u001b[39;49mquoting,\n\u001b[1;32m   3910\u001b[0m     columns\u001b[39m=\u001b[39;49mcolumns,\n\u001b[1;32m   3911\u001b[0m     index_label\u001b[39m=\u001b[39;49mindex_label,\n\u001b[1;32m   3912\u001b[0m     mode\u001b[39m=\u001b[39;49mmode,\n\u001b[1;32m   3913\u001b[0m     chunksize\u001b[39m=\u001b[39;49mchunksize,\n\u001b[1;32m   3914\u001b[0m     quotechar\u001b[39m=\u001b[39;49mquotechar,\n\u001b[1;32m   3915\u001b[0m     date_format\u001b[39m=\u001b[39;49mdate_format,\n\u001b[1;32m   3916\u001b[0m     doublequote\u001b[39m=\u001b[39;49mdoublequote,\n\u001b[1;32m   3917\u001b[0m     escapechar\u001b[39m=\u001b[39;49mescapechar,\n\u001b[1;32m   3918\u001b[0m     storage_options\u001b[39m=\u001b[39;49mstorage_options,\n\u001b[1;32m   3919\u001b[0m )\n",
            "File \u001b[0;32m~/.local/lib/python3.10/site-packages/pandas/io/formats/format.py:1152\u001b[0m, in \u001b[0;36mDataFrameRenderer.to_csv\u001b[0;34m(self, path_or_buf, encoding, sep, columns, index_label, mode, compression, quoting, quotechar, lineterminator, chunksize, date_format, doublequote, escapechar, errors, storage_options)\u001b[0m\n\u001b[1;32m   1131\u001b[0m     created_buffer \u001b[39m=\u001b[39m \u001b[39mFalse\u001b[39;00m\n\u001b[1;32m   1133\u001b[0m csv_formatter \u001b[39m=\u001b[39m CSVFormatter(\n\u001b[1;32m   1134\u001b[0m     path_or_buf\u001b[39m=\u001b[39mpath_or_buf,\n\u001b[1;32m   1135\u001b[0m     lineterminator\u001b[39m=\u001b[39mlineterminator,\n\u001b[0;32m   (...)\u001b[0m\n\u001b[1;32m   1150\u001b[0m     formatter\u001b[39m=\u001b[39m\u001b[39mself\u001b[39m\u001b[39m.\u001b[39mfmt,\n\u001b[1;32m   1151\u001b[0m )\n\u001b[0;32m-> 1152\u001b[0m csv_formatter\u001b[39m.\u001b[39;49msave()\n\u001b[1;32m   1154\u001b[0m \u001b[39mif\u001b[39;00m created_buffer:\n\u001b[1;32m   1155\u001b[0m     \u001b[39massert\u001b[39;00m \u001b[39misinstance\u001b[39m(path_or_buf, StringIO)\n",
            "File \u001b[0;32m~/.local/lib/python3.10/site-packages/pandas/io/formats/csvs.py:247\u001b[0m, in \u001b[0;36mCSVFormatter.save\u001b[0;34m(self)\u001b[0m\n\u001b[1;32m    243\u001b[0m \u001b[39m\u001b[39m\u001b[39m\"\"\"\u001b[39;00m\n\u001b[1;32m    244\u001b[0m \u001b[39mCreate the writer & save.\u001b[39;00m\n\u001b[1;32m    245\u001b[0m \u001b[39m\"\"\"\u001b[39;00m\n\u001b[1;32m    246\u001b[0m \u001b[39m# apply compression and byte/text conversion\u001b[39;00m\n\u001b[0;32m--> 247\u001b[0m \u001b[39mwith\u001b[39;00m get_handle(\n\u001b[1;32m    248\u001b[0m     \u001b[39mself\u001b[39;49m\u001b[39m.\u001b[39;49mfilepath_or_buffer,\n\u001b[1;32m    249\u001b[0m     \u001b[39mself\u001b[39;49m\u001b[39m.\u001b[39;49mmode,\n\u001b[1;32m    250\u001b[0m     encoding\u001b[39m=\u001b[39;49m\u001b[39mself\u001b[39;49m\u001b[39m.\u001b[39;49mencoding,\n\u001b[1;32m    251\u001b[0m     errors\u001b[39m=\u001b[39;49m\u001b[39mself\u001b[39;49m\u001b[39m.\u001b[39;49merrors,\n\u001b[1;32m    252\u001b[0m     compression\u001b[39m=\u001b[39;49m\u001b[39mself\u001b[39;49m\u001b[39m.\u001b[39;49mcompression,\n\u001b[1;32m    253\u001b[0m     storage_options\u001b[39m=\u001b[39;49m\u001b[39mself\u001b[39;49m\u001b[39m.\u001b[39;49mstorage_options,\n\u001b[1;32m    254\u001b[0m ) \u001b[39mas\u001b[39;00m handles:\n\u001b[1;32m    255\u001b[0m     \u001b[39m# Note: self.encoding is irrelevant here\u001b[39;00m\n\u001b[1;32m    256\u001b[0m     \u001b[39mself\u001b[39m\u001b[39m.\u001b[39mwriter \u001b[39m=\u001b[39m csvlib\u001b[39m.\u001b[39mwriter(\n\u001b[1;32m    257\u001b[0m         handles\u001b[39m.\u001b[39mhandle,\n\u001b[1;32m    258\u001b[0m         lineterminator\u001b[39m=\u001b[39m\u001b[39mself\u001b[39m\u001b[39m.\u001b[39mlineterminator,\n\u001b[0;32m   (...)\u001b[0m\n\u001b[1;32m    263\u001b[0m         quotechar\u001b[39m=\u001b[39m\u001b[39mself\u001b[39m\u001b[39m.\u001b[39mquotechar,\n\u001b[1;32m    264\u001b[0m     )\n\u001b[1;32m    266\u001b[0m     \u001b[39mself\u001b[39m\u001b[39m.\u001b[39m_save()\n",
            "File \u001b[0;32m~/.local/lib/python3.10/site-packages/pandas/io/common.py:739\u001b[0m, in \u001b[0;36mget_handle\u001b[0;34m(path_or_buf, mode, encoding, compression, memory_map, is_text, errors, storage_options)\u001b[0m\n\u001b[1;32m    737\u001b[0m \u001b[39m# Only for write methods\u001b[39;00m\n\u001b[1;32m    738\u001b[0m \u001b[39mif\u001b[39;00m \u001b[39m\"\u001b[39m\u001b[39mr\u001b[39m\u001b[39m\"\u001b[39m \u001b[39mnot\u001b[39;00m \u001b[39min\u001b[39;00m mode \u001b[39mand\u001b[39;00m is_path:\n\u001b[0;32m--> 739\u001b[0m     check_parent_directory(\u001b[39mstr\u001b[39;49m(handle))\n\u001b[1;32m    741\u001b[0m \u001b[39mif\u001b[39;00m compression:\n\u001b[1;32m    742\u001b[0m     \u001b[39mif\u001b[39;00m compression \u001b[39m!=\u001b[39m \u001b[39m\"\u001b[39m\u001b[39mzstd\u001b[39m\u001b[39m\"\u001b[39m:\n\u001b[1;32m    743\u001b[0m         \u001b[39m# compression libraries do not like an explicit text-mode\u001b[39;00m\n",
            "File \u001b[0;32m~/.local/lib/python3.10/site-packages/pandas/io/common.py:604\u001b[0m, in \u001b[0;36mcheck_parent_directory\u001b[0;34m(path)\u001b[0m\n\u001b[1;32m    602\u001b[0m parent \u001b[39m=\u001b[39m Path(path)\u001b[39m.\u001b[39mparent\n\u001b[1;32m    603\u001b[0m \u001b[39mif\u001b[39;00m \u001b[39mnot\u001b[39;00m parent\u001b[39m.\u001b[39mis_dir():\n\u001b[0;32m--> 604\u001b[0m     \u001b[39mraise\u001b[39;00m \u001b[39mOSError\u001b[39;00m(\u001b[39mrf\u001b[39m\u001b[39m\"\u001b[39m\u001b[39mCannot save file into a non-existent directory: \u001b[39m\u001b[39m'\u001b[39m\u001b[39m{\u001b[39;00mparent\u001b[39m}\u001b[39;00m\u001b[39m'\u001b[39m\u001b[39m\"\u001b[39m)\n",
            "\u001b[0;31mOSError\u001b[0m: Cannot save file into a non-existent directory: 'output'"
          ]
        }
      ],
      "source": [
        "for campus in tables:\n",
        "  res = table_to_json(tables[campus])\n",
        "  res.to_csv(campus + \".csv\", index=False)"
      ]
    }
  ],
  "metadata": {
    "colab": {
      "provenance": []
    },
    "kernelspec": {
      "display_name": "Python 3",
      "name": "python3"
    },
    "language_info": {
      "codemirror_mode": {
        "name": "ipython",
        "version": 3
      },
      "file_extension": ".py",
      "mimetype": "text/x-python",
      "name": "python",
      "nbconvert_exporter": "python",
      "pygments_lexer": "ipython3",
      "version": "3.10.12"
    }
  },
  "nbformat": 4,
  "nbformat_minor": 0
}
